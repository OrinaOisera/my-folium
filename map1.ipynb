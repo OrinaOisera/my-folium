{
 "cells": [
  {
   "cell_type": "code",
   "execution_count": 1,
   "metadata": {},
   "outputs": [
    {
     "data": {
      "text/plain": [
       "[48.7767982,\n",
       " 48.1118011,\n",
       " 46.8698006,\n",
       " 46.1997986,\n",
       " 46.20579910000001,\n",
       " 45.8797989,\n",
       " 45.929798100000006,\n",
       " 45.3737984,\n",
       " 44.691799200000005,\n",
       " 44.4197998,\n",
       " 44.3797989,\n",
       " 44.331798600000006,\n",
       " 44.2848015,\n",
       " 44.1697998,\n",
       " 44.099800099999996,\n",
       " 43.978801700000005,\n",
       " 43.7218018,\n",
       " 43.569801299999995,\n",
       " 43.5119019,\n",
       " 43.240798999999996,\n",
       " 43.471900899999994,\n",
       " 43.3609009,\n",
       " 42.9299011,\n",
       " 44.4299011,\n",
       " 43.0998993,\n",
       " 43.1498985,\n",
       " 42.9999008,\n",
       " 43.419899,\n",
       " 43.4999008,\n",
       " 43.1799011,\n",
       " 42.605899799999996,\n",
       " 41.579898799999995,\n",
       " 42.8799019,\n",
       " 41.419899,\n",
       " 41.1778984,\n",
       " 40.954898799999995,\n",
       " 40.77989960000001,\n",
       " 40.6799011,\n",
       " 40.6299019,\n",
       " 40.491901399999996,\n",
       " 38.9698982,\n",
       " 39.3749008,\n",
       " 39.6500015,\n",
       " 37.9999008,\n",
       " 38.970001200000006,\n",
       " 37.8799019,\n",
       " 37.6918983,\n",
       " 37.6999016,\n",
       " 37.579898799999995,\n",
       " 37.0199013,\n",
       " 37.5800018,\n",
       " 37.257,\n",
       " 37.32799910000001,\n",
       " 36.3578987,\n",
       " 36.02989960000001,\n",
       " 36.3800011,\n",
       " 34.75,\n",
       " 35.8699989,\n",
       " 35.3699989,\n",
       " 34.5499992,\n",
       " 34.7999992,\n",
       " 33.7801018]"
      ]
     },
     "execution_count": 1,
     "metadata": {},
     "output_type": "execute_result"
    }
   ],
   "source": [
    "import pandas\n",
    "m = pandas.read_csv(\"3.1 Volcanoes.txt.txt\")\n",
    "m.columns\n",
    "lat = list(m['LAT'])\n",
    "lat"
   ]
  },
  {
   "cell_type": "code",
   "execution_count": null,
   "metadata": {},
   "outputs": [],
   "source": [
    "import folium \n",
    "import pandas\n",
    "import urllib.request , json \n",
    "\n",
    "with urllib.request.urlopen(\"https://raw.githubusercontent.com/bhaskarvk/leaflet-talk-rstudioconf-2017/master/world-population.geo.json\") as url:\n",
    "    data = json.loads(url.read().decode())\n",
    "\n",
    "\n",
    "data = pandas.read_csv(\"3.1 Volcanoes.txt.txt\")\n",
    "lat = list(data[\"LAT\"])\n",
    "lon = list(data[\"LON\"])\n",
    "elev = list(data[\"ELEV\"])\n",
    "geoj = data\n",
    "\n",
    "def color_producer(elevation):\n",
    "    if elevation < 1000:\n",
    "        return \"green\"\n",
    "    elif  1000 <= elevation < 3000:\n",
    "        return \"orange\"\n",
    "    else:\n",
    "        return \"red\"\n",
    "\n",
    "map =  folium.Map(location = [38.58, -99.09] , zoom_start=6, titles = \"Mapbox Bright\")\n",
    "fg = folium.FeatureGroup(name=\"My map\")\n",
    "\n",
    "for lt , ln , el in zip(lat , lon , elev): \n",
    "    fg.add_child(folium.Marker(location = [lt, ln], popup = el, icon = folium.Icon(color = color_producer(el))))\n",
    "map.add_child(fg)\n",
    "\n",
    "folium.GeoJson(geoj, name='new').add_to(fg)\n",
    "\n",
    "map.save(\"Map1.html\")\n",
    "map"
   ]
  },
  {
   "cell_type": "code",
   "execution_count": null,
   "metadata": {},
   "outputs": [],
   "source": []
  },
  {
   "cell_type": "code",
   "execution_count": null,
   "metadata": {},
   "outputs": [],
   "source": []
  },
  {
   "cell_type": "code",
   "execution_count": null,
   "metadata": {},
   "outputs": [],
   "source": []
  },
  {
   "cell_type": "code",
   "execution_count": null,
   "metadata": {},
   "outputs": [],
   "source": []
  },
  {
   "cell_type": "code",
   "execution_count": null,
   "metadata": {},
   "outputs": [],
   "source": []
  }
 ],
 "metadata": {
  "kernelspec": {
   "display_name": "Python 3",
   "language": "python",
   "name": "python3"
  },
  "language_info": {
   "codemirror_mode": {
    "name": "ipython",
    "version": 3
   },
   "file_extension": ".py",
   "mimetype": "text/x-python",
   "name": "python",
   "nbconvert_exporter": "python",
   "pygments_lexer": "ipython3",
   "version": "3.7.3"
  }
 },
 "nbformat": 4,
 "nbformat_minor": 2
}
